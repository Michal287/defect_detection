{
  "cells": [
    {
      "cell_type": "markdown",
      "metadata": {
        "id": "view-in-github",
        "colab_type": "text"
      },
      "source": [
        "<a href=\"https://colab.research.google.com/github/Michal287/defect_detection/blob/main/GKN_Tulips_SingleLabel.ipynb\" target=\"_parent\"><img src=\"https://colab.research.google.com/assets/colab-badge.svg\" alt=\"Open In Colab\"/></a>"
      ]
    },
    {
      "cell_type": "code",
      "execution_count": null,
      "metadata": {
        "id": "3Xy17RlV_ICM"
      },
      "outputs": [],
      "source": [
        "%pip install -q split_folders"
      ]
    },
    {
      "cell_type": "markdown",
      "metadata": {
        "id": "MiIS4ugn1O0w"
      },
      "source": [
        "# Imports"
      ]
    },
    {
      "cell_type": "code",
      "execution_count": null,
      "metadata": {
        "id": "hWn7ziyCh0L1"
      },
      "outputs": [],
      "source": [
        "#os\n",
        "from google.colab import drive\n",
        "import os\n",
        "from datetime import datetime\n",
        "\n",
        "#tensorflow tools\n",
        "import tensorflow as tf\n",
        "from tensorflow.keras.preprocessing.image import img_to_array\n",
        "from tensorflow.keras.callbacks import ModelCheckpoint\n",
        "\n",
        "#tensorflow architecture\n",
        "from tensorflow.keras.layers import Conv2D, MaxPool2D, Rescaling, Dense, Dropout, LayerNormalization, Flatten, Resizing, Rescaling, InputLayer, GlobalAveragePooling2D\n",
        "from tensorflow.keras.models import Sequential, load_model\n",
        "\n",
        "#agumentation\n",
        "import albumentations as A\n",
        "\n",
        "#tensorboard\n",
        "%load_ext tensorboard\n",
        "\n",
        "#cv2\n",
        "import cv2\n",
        "from google.colab.patches import cv2_imshow\n",
        "\n",
        "#sklearn\n",
        "from sklearn.preprocessing import MultiLabelBinarizer\n",
        "\n",
        "#tools\n",
        "import random\n",
        "import numpy as np\n",
        "import splitfolders\n",
        "\n",
        "#plt\n",
        "import matplotlib.pyplot as plt"
      ]
    },
    {
      "cell_type": "markdown",
      "metadata": {
        "id": "vW4H7BXs1VJx"
      },
      "source": [
        "# Connect to google drive"
      ]
    },
    {
      "cell_type": "code",
      "execution_count": null,
      "metadata": {
        "colab": {
          "base_uri": "https://localhost:8080/"
        },
        "id": "m3jGS4JL1Z9B",
        "outputId": "e1c68930-4682-4dbe-a47a-820d1de10891"
      },
      "outputs": [
        {
          "name": "stdout",
          "output_type": "stream",
          "text": [
            "Mounted at /content/drive\n"
          ]
        }
      ],
      "source": [
        "drive.mount('/content/drive')"
      ]
    },
    {
      "cell_type": "markdown",
      "metadata": {
        "id": "JQlMqkbf1cEa"
      },
      "source": [
        "# Checking GPU"
      ]
    },
    {
      "cell_type": "code",
      "execution_count": null,
      "metadata": {
        "colab": {
          "base_uri": "https://localhost:8080/"
        },
        "id": "Ea9M8yI41dH6",
        "outputId": "12435b0d-3fa6-4693-d83a-0cdd10f5a658"
      },
      "outputs": [
        {
          "data": {
            "text/plain": [
              "[PhysicalDevice(name='/physical_device:GPU:0', device_type='GPU')]"
            ]
          },
          "execution_count": 4,
          "metadata": {},
          "output_type": "execute_result"
        }
      ],
      "source": [
        "gpus = tf.config.experimental.list_physical_devices('GPU')\n",
        "for gpu in gpus:\n",
        "    tf.config.experimental.set_memory_growth(gpu, True)\n",
        "\n",
        "tf.config.list_physical_devices('GPU')"
      ]
    },
    {
      "cell_type": "markdown",
      "metadata": {
        "id": "BlBzvMjL1izR"
      },
      "source": [
        "# Download images from google drive"
      ]
    },
    {
      "cell_type": "code",
      "execution_count": null,
      "metadata": {
        "id": "85kXjsn01hPB"
      },
      "outputs": [],
      "source": [
        "!unzip -q /content/drive/MyDrive/images_multilabel.zip"
      ]
    },
    {
      "cell_type": "markdown",
      "metadata": {
        "id": "6VcO-CXb2YDz"
      },
      "source": [
        "# Settings"
      ]
    },
    {
      "cell_type": "code",
      "execution_count": null,
      "metadata": {
        "id": "dxEaZr7k2ZMR"
      },
      "outputs": [],
      "source": [
        "image_width, image_height = 510, 510\n",
        "IMG_SIZE = (510, 510)\n",
        "BATCH_SIZE = 4\n",
        "EPOCHS = 30\n",
        "data_extend_ratio = 1"
      ]
    },
    {
      "cell_type": "code",
      "execution_count": null,
      "metadata": {
        "id": "MKnJqcSA2dvq"
      },
      "outputs": [],
      "source": [
        "transform = A.Compose([\n",
        "    A.RandomBrightnessContrast(brightness_limit=0.2, contrast_limit=0.2, p=.4),\n",
        "    A.HueSaturationValue(val_shift_limit=(-20, 20), p=.4),\n",
        "    A.Blur(blur_limit=2, p=.4),\n",
        "    A.VerticalFlip(p=.7),\n",
        "    A.HorizontalFlip(p=.7),\n",
        "])\n",
        "\n",
        "image = cv2.imread('images/brak_kanalka/image_1004.jpg')\n",
        "image = cv2.resize(image, (image_width, image_height))\n",
        "image_aug = transform(image=image)[\"image\"]\n",
        "cv2_imshow(image_aug)\n",
        "image_aug.shape"
      ]
    },
    {
      "cell_type": "code",
      "execution_count": null,
      "metadata": {
        "id": "vzJaYz-l6FSD"
      },
      "outputs": [],
      "source": [
        "if not os.path.isdir('processed_images'):\n",
        "  os.mkdir('processed_images')\n",
        "\n",
        "files = []\n",
        "\n",
        "for dir in os.listdir(\"images\"):\n",
        "  if not os.path.isdir('processed_images/' + dir):\n",
        "    os.mkdir('processed_images/' + dir)\n",
        "\n",
        "  for file in os.listdir(f\"images/{dir}\"):\n",
        "      files.append(f\"images/{dir}/{file}\")"
      ]
    },
    {
      "cell_type": "code",
      "execution_count": null,
      "metadata": {
        "colab": {
          "base_uri": "https://localhost:8080/"
        },
        "id": "lvn8gdVh6fhC",
        "outputId": "b6ff1d24-692e-4b71-ccc5-9f682cf0d669"
      },
      "outputs": [
        {
          "name": "stdout",
          "output_type": "stream",
          "text": [
            "images/nieobrobiony_srodek/6\n",
            "images/nieobrobiony_srodek/7\n"
          ]
        }
      ],
      "source": [
        "for file in files:\n",
        "  try:\n",
        "    image = cv2.imread(file)\n",
        "    # image = cv2.resize(image, (image_width, image_height))\n",
        "    cv2.imwrite(\"processed_images/\" + \"/\".join(file.split(\"/\")[1:]), image)\n",
        "\n",
        "    for i in range(data_extend_ratio):\n",
        "      dir, filename = file.split(\"/\")[1:][0], file.split(\"/\")[1:][1]\n",
        "      filename = filename.split(\".\")\n",
        "      filename, ext = filename[0], filename[1]\n",
        "\n",
        "                                  # if int(dir) in [4]:\n",
        "                                  #   if not random.randint(0, 2):\n",
        "                                  #     image_aug = transform(image=image)[\"image\"]\n",
        "                                  #     cv2.imwrite(f\"processed_images/{dir}/{filename}_{i+1}.{ext}\", image_aug)\n",
        "                                  #   else:\n",
        "                                  #     continue\n",
        "\n",
        "                                  # elif int(dir) in [7]:\n",
        "                                  #   if not random.randint(0, 1):\n",
        "                                  #     image_aug = transform(image=image)[\"image\"]\n",
        "                                  #     cv2.imwrite(f\"processed_images/{dir}/{filename}_{i+1}.{ext}\", image_aug)\n",
        "                                  #   else:\n",
        "                                  #     continue\n",
        "          \n",
        "      \n",
        "      image_aug = transform(image=image)[\"image\"]\n",
        "      cv2.imwrite(f\"processed_images/{dir}/{filename}_{i+1}.{ext}\", image_aug)\n",
        "  except Exception:\n",
        "    print(file)"
      ]
    },
    {
      "cell_type": "code",
      "execution_count": null,
      "metadata": {
        "colab": {
          "base_uri": "https://localhost:8080/"
        },
        "id": "YVdEP6C5ASCr",
        "outputId": "b330fbc0-906b-4ae4-b58c-968b4bb74c8f"
      },
      "outputs": [
        {
          "data": {
            "text/plain": [
              "5262"
            ]
          },
          "execution_count": 18,
          "metadata": {},
          "output_type": "execute_result"
        }
      ],
      "source": [
        "processed_files = []\n",
        "\n",
        "# Count all files\n",
        "for dir in os.listdir(\"processed_images\"):\n",
        "  for file in os.listdir(f\"processed_images/{dir}\"):\n",
        "      processed_files.append(f\"processed_images/{dir}/{file}\")\n",
        "\n",
        "len(processed_files)"
      ]
    },
    {
      "cell_type": "code",
      "execution_count": null,
      "metadata": {
        "colab": {
          "base_uri": "https://localhost:8080/",
          "height": 280
        },
        "id": "32Jq7oOjBh2m",
        "outputId": "a97691ac-f935-41d3-e4f3-95dc72e102bb"
      },
      "outputs": [
        {
          "data": {
            "image/png": "[encoded data removed]",
            "text/plain": [
              "<Figure size 432x288 with 1 Axes>"
            ]
          },
          "metadata": {},
          "output_type": "display_data"
        }
      ],
      "source": [
        "labels = [i for i in os.listdir(\"processed_images\")]\n",
        "sum_files = []\n",
        "\n",
        "for i in os.listdir(\"processed_images\"):\n",
        "  sum_files.append(len(os.listdir(f\"processed_images/{i}\")))\n",
        "\n",
        "plt.bar(labels, sum_files, label=\"Sum of each class\")\n",
        "plt.plot()\n",
        "\n",
        "plt.xlabel(\"x axis\")\n",
        "plt.ylabel(\"y axis\")\n",
        "plt.legend()\n",
        "plt.show()"
      ]
    },
    {
      "cell_type": "code",
      "execution_count": null,
      "metadata": {
        "colab": {
          "background_save": true
        },
        "id": "_UBGKWUFCHm5"
      },
      "outputs": [],
      "source": [
        "test_agumentation = [random.randint(1, len(processed_files)) for i in range(10)]\n",
        "\n",
        "for i in test_agumentation:\n",
        "  cv2_imshow(cv2.imread(processed_files[i]))"
      ]
    },
    {
      "cell_type": "code",
      "execution_count": null,
      "metadata": {
        "colab": {
          "base_uri": "https://localhost:8080/"
        },
        "id": "o3_FWo-u--jk",
        "outputId": "9c50923c-edca-4066-9807-002bf5b7d8c2"
      },
      "outputs": [
        {
          "name": "stderr",
          "output_type": "stream",
          "text": [
            "Copying files: 8832 files [00:01, 5166.21 files/s]\n"
          ]
        }
      ],
      "source": [
        "splitfolders.ratio(\"processed_images\", output=\"data\", seed=1337, ratio=(.75, .2, .05), group_prefix=None)"
      ]
    },
    {
      "cell_type": "code",
      "execution_count": null,
      "metadata": {
        "colab": {
          "base_uri": "https://localhost:8080/"
        },
        "id": "umAwt3W090Os",
        "outputId": "616f53b0-934b-4092-8d3c-f0c582a8a6db"
      },
      "outputs": [
        {
          "name": "stdout",
          "output_type": "stream",
          "text": [
            "Found 6624 files belonging to 7 classes.\n",
            "Found 1764 files belonging to 7 classes.\n",
            "\n",
            "\n",
            "Number of training batches: 1656\n",
            "Number of validation batches: 441\n"
          ]
        }
      ],
      "source": [
        "train_dataset = tf.keras.utils.image_dataset_from_directory(\"data/train\",\n",
        "                                                            shuffle=True,\n",
        "                                                            batch_size=BATCH_SIZE,\n",
        "                                                            image_size=IMG_SIZE)\n",
        "                                                            \n",
        "validation_dataset = tf.keras.utils.image_dataset_from_directory(\"data/val\",\n",
        "                                                                 shuffle=True,\n",
        "                                                                 batch_size=BATCH_SIZE,\n",
        "                                                                 image_size=IMG_SIZE)\n",
        "                                                            \n",
        "\n",
        "print('\\n\\nNumber of training batches: %d' % tf.data.experimental.cardinality(train_dataset).numpy())\n",
        "print('Number of validation batches: %d' % tf.data.experimental.cardinality(validation_dataset).numpy())"
      ]
    },
    {
      "cell_type": "markdown",
      "metadata": {
        "id": "ZC_aRhWM_GNk"
      },
      "source": [
        "# Custom Model"
      ]
    },
    {
      "cell_type": "code",
      "execution_count": null,
      "metadata": {
        "colab": {
          "base_uri": "https://localhost:8080/"
        },
        "id": "2wGVcrPXBEtb",
        "outputId": "8bd6ba45-768a-44fa-f112-792959d67435"
      },
      "outputs": [
        {
          "name": "stdout",
          "output_type": "stream",
          "text": [
            "Model: \"sequential_28\"\n",
            "_________________________________________________________________\n",
            " Layer (type)                Output Shape              Param #   \n",
            "=================================================================\n",
            " resizing_25 (Resizing)      (None, 128, 128, 3)       0         \n",
            "                                                                 \n",
            " rescaling_28 (Rescaling)    (None, 128, 128, 3)       0         \n",
            "                                                                 \n",
            " conv2d_104 (Conv2D)         (None, 128, 128, 64)      1792      \n",
            "                                                                 \n",
            " max_pooling2d_89 (MaxPoolin  (None, 64, 64, 64)       0         \n",
            " g2D)                                                            \n",
            "                                                                 \n",
            " conv2d_105 (Conv2D)         (None, 64, 64, 128)       73856     \n",
            "                                                                 \n",
            " max_pooling2d_90 (MaxPoolin  (None, 32, 32, 128)      0         \n",
            " g2D)                                                            \n",
            "                                                                 \n",
            " conv2d_106 (Conv2D)         (None, 32, 32, 256)       295168    \n",
            "                                                                 \n",
            " max_pooling2d_91 (MaxPoolin  (None, 16, 16, 256)      0         \n",
            " g2D)                                                            \n",
            "                                                                 \n",
            " global_average_pooling2d_13  (None, 256)              0         \n",
            "  (GlobalAveragePooling2D)                                       \n",
            "                                                                 \n",
            " dense_64 (Dense)            (None, 512)               131584    \n",
            "                                                                 \n",
            " dense_65 (Dense)            (None, 7)                 3591      \n",
            "                                                                 \n",
            "=================================================================\n",
            "Total params: 505,991\n",
            "Trainable params: 505,991\n",
            "Non-trainable params: 0\n",
            "_________________________________________________________________\n"
          ]
        }
      ],
      "source": [
        "model = Sequential([\n",
        "        Resizing(128, 128, input_shape=(510, 510, 3)),\n",
        "        Rescaling(1./255),\n",
        "\n",
        "        Conv2D(64, kernel_size=(3, 3), activation='relu', padding='same'),\n",
        "        MaxPool2D(pool_size=(2, 2)),\n",
        "\n",
        "        Conv2D(128, kernel_size=(3, 3), activation='relu', padding='same'),\n",
        "        MaxPool2D(pool_size=(2, 2)),\n",
        "\n",
        "        Conv2D(256, kernel_size=(3, 3), activation='relu', padding='same'),\n",
        "        MaxPool2D(pool_size=(2, 2)),\n",
        "\n",
        "        GlobalAveragePooling2D(),\n",
        "\n",
        "        Dense(512, activation='relu'),\n",
        "\n",
        "        Dense(7, activation='sigmoid'),\n",
        "    ])\n",
        "\n",
        "model.summary()\n",
        "\n",
        "model.compile(loss='sparse_categorical_crossentropy', optimizer='adam', metrics=['accuracy'])"
      ]
    },
    {
      "cell_type": "code",
      "execution_count": null,
      "metadata": {
        "id": "K0MzEjg3u97E"
      },
      "outputs": [],
      "source": [
        "dt = datetime.now().strftime('%d_%m_%Y_%H_%M')\n",
        "filepath = os.path.join('output', 'model_' + dt + '.hdf5')\n",
        "checkpoint = ModelCheckpoint(filepath=filepath, monitor='val_accuracy', save_best_only=True)"
      ]
    },
    {
      "cell_type": "code",
      "execution_count": null,
      "metadata": {
        "id": "MpGCmziSvCcM"
      },
      "outputs": [],
      "source": [
        "log_dir = \"logs/fit/\" + datetime.now().strftime(\"%Y%m%d-%H%M%S\")\n",
        "tensorboard_callback = tf.keras.callbacks.TensorBoard(log_dir=log_dir, histogram_freq=1)"
      ]
    },
    {
      "cell_type": "code",
      "execution_count": null,
      "metadata": {
        "id": "8gQ-aTnEFbeb"
      },
      "outputs": [],
      "source": [
        "history = model.fit(train_dataset, validation_data=validation_dataset, epochs=50, callbacks=[checkpoint, tensorboard_callback])"
      ]
    },
    {
      "cell_type": "code",
      "execution_count": null,
      "metadata": {
        "colab": {
          "base_uri": "https://localhost:8080/",
          "height": 499
        },
        "id": "WH2F5YQ0LJvs",
        "outputId": "fd53f494-1478-47b8-9250-85ba173317cc"
      },
      "outputs": [
        {
          "data": {
            "image/png": "[encoded data removed]",
            "text/plain": [
              "<Figure size 576x576 with 2 Axes>"
            ]
          },
          "metadata": {},
          "output_type": "display_data"
        }
      ],
      "source": [
        "acc = history.history['accuracy']\n",
        "val_acc = history.history['val_accuracy']\n",
        "\n",
        "loss = history.history['loss']\n",
        "val_loss = history.history['val_loss']\n",
        "\n",
        "epochs_range = range(10)\n",
        "\n",
        "plt.figure(figsize=(8, 8))\n",
        "plt.subplot(1, 2, 1)\n",
        "plt.plot(epochs_range, acc, label='Training Accuracy')\n",
        "plt.plot(epochs_range, val_acc, label='Validation Accuracy')\n",
        "plt.legend(loc='lower right')\n",
        "plt.title('Training and Validation Accuracy')\n",
        "\n",
        "plt.subplot(1, 2, 2)\n",
        "plt.plot(epochs_range, loss, label='Training Loss')\n",
        "plt.plot(epochs_range, val_loss, label='Validation Loss')\n",
        "plt.legend(loc='upper right')\n",
        "plt.title('Training and Validation Loss')\n",
        "plt.show()"
      ]
    },
    {
      "cell_type": "markdown",
      "metadata": {
        "id": "OIn1eWd67Vft"
      },
      "source": [
        "# ResNet"
      ]
    },
    {
      "cell_type": "code",
      "execution_count": null,
      "metadata": {
        "id": "GdK1F7717XBX"
      },
      "outputs": [],
      "source": [
        "from tensorflow.keras.applications.resnet50 import ResNet50\n",
        "\n",
        "resnet50 = ResNet50(include_top=False, #ostatnie warstwy zagęszczone, specyficzne dla zbioru, nie zostają załadowane\n",
        "                    weights='imagenet',\n",
        "                    input_shape=(510,510,3),\n",
        "                    pooling=True, classes=7)\n",
        "\n",
        "for layer in resnet50.layers:\n",
        "    layer.trainable = False"
      ]
    },
    {
      "cell_type": "code",
      "execution_count": null,
      "metadata": {
        "id": "HFBqZ5SH7cx_"
      },
      "outputs": [],
      "source": [
        "model = Sequential()\n",
        "model.add(resnet50)\n",
        "model.add(Flatten())\n",
        "model.add(Dense(64, activation='relu'))\n",
        "Dropout(0.5),\n",
        "model.add(Dense(2, activation='softmax'))"
      ]
    },
    {
      "cell_type": "code",
      "execution_count": null,
      "metadata": {
        "colab": {
          "base_uri": "https://localhost:8080/"
        },
        "id": "Ny-j5H4R7etG",
        "outputId": "290f29f0-51ee-42d8-baca-1fe83c7ae534"
      },
      "outputs": [
        {
          "name": "stdout",
          "output_type": "stream",
          "text": [
            "Model: \"sequential_14\"\n",
            "_________________________________________________________________\n",
            " Layer (type)                Output Shape              Param #   \n",
            "=================================================================\n",
            " resnet50 (Functional)       (None, 16, 16, 2048)      23587712  \n",
            "                                                                 \n",
            " flatten_14 (Flatten)        (None, 524288)            0         \n",
            "                                                                 \n",
            " dense_33 (Dense)            (None, 64)                33554496  \n",
            "                                                                 \n",
            " dense_34 (Dense)            (None, 2)                 130       \n",
            "                                                                 \n",
            "=================================================================\n",
            "Total params: 57,142,338\n",
            "Trainable params: 33,554,626\n",
            "Non-trainable params: 23,587,712\n",
            "_________________________________________________________________\n"
          ]
        }
      ],
      "source": [
        "model.summary()"
      ]
    },
    {
      "cell_type": "code",
      "execution_count": null,
      "metadata": {
        "id": "XEJl4VqG7pQm"
      },
      "outputs": [],
      "source": [
        "model.compile(optimizer='nadam', loss='sparse_categorical_crossentropy', metrics=['accuracy'])"
      ]
    },
    {
      "cell_type": "code",
      "execution_count": null,
      "metadata": {
        "id": "aVcYK4VG74FV"
      },
      "outputs": [],
      "source": [
        "dt = datetime.now().strftime('%d_%m_%Y_%H_%M')\n",
        "filepath = os.path.join('output', 'model_' + dt + '.hdf5')\n",
        "checkpoint = ModelCheckpoint(filepath=filepath, monitor='val_accuracy', save_best_only=True)\n",
        "\n",
        "log_dir = \"logs/fit/\" + datetime.now().strftime(\"%Y%m%d-%H%M%S\")\n",
        "tensorboard_callback = tf.keras.callbacks.TensorBoard(log_dir=log_dir, histogram_freq=1)"
      ]
    },
    {
      "cell_type": "code",
      "execution_count": null,
      "metadata": {
        "colab": {
          "base_uri": "https://localhost:8080/",
          "height": 1000
        },
        "id": "5h_GajWv79FV",
        "outputId": "49449b43-4813-4131-e21e-679dfed1fad9"
      },
      "outputs": [
        {
          "name": "stdout",
          "output_type": "stream",
          "text": [
            "Epoch 1/50\n",
            "126/126 [==============================] - 11s 66ms/step - loss: 11.0847 - accuracy: 0.5418 - val_loss: 0.8752 - val_accuracy: 0.5591\n",
            "Epoch 2/50\n",
            "126/126 [==============================] - 8s 62ms/step - loss: 0.6752 - accuracy: 0.6135 - val_loss: 0.7459 - val_accuracy: 0.6142\n",
            "Epoch 3/50\n",
            "126/126 [==============================] - 8s 62ms/step - loss: 0.6224 - accuracy: 0.6474 - val_loss: 0.6136 - val_accuracy: 0.6614\n",
            "Epoch 4/50\n",
            "126/126 [==============================] - 7s 53ms/step - loss: 0.5899 - accuracy: 0.6534 - val_loss: 0.6373 - val_accuracy: 0.6457\n",
            "Epoch 5/50\n",
            "126/126 [==============================] - 8s 64ms/step - loss: 0.5302 - accuracy: 0.6853 - val_loss: 0.7394 - val_accuracy: 0.6772\n",
            "Epoch 6/50\n",
            "126/126 [==============================] - 7s 55ms/step - loss: 0.4585 - accuracy: 0.6992 - val_loss: 0.4856 - val_accuracy: 0.6457\n",
            "Epoch 7/50\n",
            "126/126 [==============================] - 8s 64ms/step - loss: 0.4472 - accuracy: 0.7351 - val_loss: 0.4854 - val_accuracy: 0.7008\n",
            "Epoch 8/50\n",
            "126/126 [==============================] - 7s 53ms/step - loss: 0.3945 - accuracy: 0.7649 - val_loss: 0.5702 - val_accuracy: 0.6693\n",
            "Epoch 9/50\n",
            "126/126 [==============================] - 7s 54ms/step - loss: 0.3460 - accuracy: 0.7869 - val_loss: 0.4771 - val_accuracy: 0.6772\n",
            "Epoch 10/50\n",
            "126/126 [==============================] - 7s 54ms/step - loss: 0.3617 - accuracy: 0.7888 - val_loss: 0.5258 - val_accuracy: 0.6693\n",
            "Epoch 11/50\n",
            "126/126 [==============================] - 7s 54ms/step - loss: 0.3438 - accuracy: 0.8088 - val_loss: 0.5045 - val_accuracy: 0.6457\n",
            "Epoch 12/50\n",
            "126/126 [==============================] - 7s 53ms/step - loss: 0.3418 - accuracy: 0.8187 - val_loss: 0.5017 - val_accuracy: 0.6850\n",
            "Epoch 13/50\n",
            "126/126 [==============================] - 7s 53ms/step - loss: 0.2809 - accuracy: 0.8506 - val_loss: 1.2998 - val_accuracy: 0.6299\n",
            "Epoch 14/50\n",
            "126/126 [==============================] - 8s 63ms/step - loss: 0.3042 - accuracy: 0.8406 - val_loss: 0.5845 - val_accuracy: 0.7165\n",
            "Epoch 15/50\n",
            "126/126 [==============================] - 7s 54ms/step - loss: 0.2206 - accuracy: 0.8685 - val_loss: 0.4575 - val_accuracy: 0.6929\n",
            "Epoch 16/50\n",
            "126/126 [==============================] - 8s 63ms/step - loss: 0.2154 - accuracy: 0.8865 - val_loss: 0.4481 - val_accuracy: 0.7244\n",
            "Epoch 17/50\n",
            "126/126 [==============================] - 8s 63ms/step - loss: 0.1665 - accuracy: 0.8865 - val_loss: 0.3984 - val_accuracy: 0.7323\n",
            "Epoch 18/50\n",
            "126/126 [==============================] - 7s 54ms/step - loss: 0.1401 - accuracy: 0.8984 - val_loss: 0.6713 - val_accuracy: 0.7087\n",
            "Epoch 19/50\n",
            "126/126 [==============================] - 8s 62ms/step - loss: 0.2307 - accuracy: 0.8645 - val_loss: 0.4370 - val_accuracy: 0.7480\n",
            "Epoch 20/50\n",
            "126/126 [==============================] - 7s 53ms/step - loss: 0.1205 - accuracy: 0.9024 - val_loss: 1.4103 - val_accuracy: 0.7087\n",
            "Epoch 21/50\n",
            "126/126 [==============================] - 7s 53ms/step - loss: 0.1456 - accuracy: 0.9024 - val_loss: 0.6175 - val_accuracy: 0.7244\n",
            "Epoch 22/50\n",
            "126/126 [==============================] - 8s 62ms/step - loss: 0.1263 - accuracy: 0.9064 - val_loss: 0.4062 - val_accuracy: 0.8661\n",
            "Epoch 23/50\n",
            "126/126 [==============================] - 7s 54ms/step - loss: 0.1133 - accuracy: 0.9562 - val_loss: 0.7986 - val_accuracy: 0.8189\n",
            "Epoch 24/50\n",
            "126/126 [==============================] - 7s 54ms/step - loss: 0.1126 - accuracy: 0.9582 - val_loss: 0.4538 - val_accuracy: 0.8425\n",
            "Epoch 25/50\n",
            "126/126 [==============================] - 7s 53ms/step - loss: 0.0810 - accuracy: 0.9861 - val_loss: 0.6998 - val_accuracy: 0.8346\n",
            "Epoch 26/50\n",
            "126/126 [==============================] - 7s 53ms/step - loss: 0.0643 - accuracy: 0.9920 - val_loss: 0.6748 - val_accuracy: 0.8425\n",
            "Epoch 27/50\n",
            "126/126 [==============================] - 7s 54ms/step - loss: 0.0547 - accuracy: 0.9980 - val_loss: 0.6220 - val_accuracy: 0.8661\n",
            "Epoch 28/50\n",
            "126/126 [==============================] - 7s 54ms/step - loss: 0.0501 - accuracy: 1.0000 - val_loss: 0.6971 - val_accuracy: 0.8504\n",
            "Epoch 29/50\n",
            "126/126 [==============================] - 7s 53ms/step - loss: 0.0464 - accuracy: 1.0000 - val_loss: 0.7097 - val_accuracy: 0.8504\n",
            "Epoch 30/50\n",
            "126/126 [==============================] - 7s 54ms/step - loss: 0.0435 - accuracy: 1.0000 - val_loss: 0.7223 - val_accuracy: 0.8504\n",
            "Epoch 31/50\n",
            "126/126 [==============================] - 7s 53ms/step - loss: 0.0408 - accuracy: 1.0000 - val_loss: 0.7312 - val_accuracy: 0.8425\n",
            "Epoch 32/50\n",
            "126/126 [==============================] - 7s 54ms/step - loss: 0.0382 - accuracy: 1.0000 - val_loss: 0.7362 - val_accuracy: 0.8425\n",
            "Epoch 33/50\n",
            "125/126 [============================>.] - ETA: 0s - loss: 0.0352 - accuracy: 1.0000"
          ]
        },
        {
          "ename": "KeyboardInterrupt",
          "evalue": "ignored",
          "output_type": "error",
          "traceback": [
            "\u001b[0;31m---------------------------------------------------------------------------\u001b[0m",
            "\u001b[0;31mKeyboardInterrupt\u001b[0m                         Traceback (most recent call last)",
            "\u001b[0;32m<ipython-input-96-ac2b05206a35>\u001b[0m in \u001b[0;36m<module>\u001b[0;34m\u001b[0m\n\u001b[0;32m----> 1\u001b[0;31m \u001b[0mhistory\u001b[0m \u001b[0;34m=\u001b[0m \u001b[0mmodel\u001b[0m\u001b[0;34m.\u001b[0m\u001b[0mfit\u001b[0m\u001b[0;34m(\u001b[0m\u001b[0mtrain_dataset\u001b[0m\u001b[0;34m,\u001b[0m \u001b[0mvalidation_data\u001b[0m\u001b[0;34m=\u001b[0m\u001b[0mvalidation_dataset\u001b[0m\u001b[0;34m,\u001b[0m \u001b[0mepochs\u001b[0m\u001b[0;34m=\u001b[0m\u001b[0;36m50\u001b[0m\u001b[0;34m,\u001b[0m \u001b[0mcallbacks\u001b[0m\u001b[0;34m=\u001b[0m\u001b[0;34m[\u001b[0m\u001b[0mcheckpoint\u001b[0m\u001b[0;34m,\u001b[0m \u001b[0mtensorboard_callback\u001b[0m\u001b[0;34m]\u001b[0m\u001b[0;34m)\u001b[0m\u001b[0;34m\u001b[0m\u001b[0;34m\u001b[0m\u001b[0m\n\u001b[0m",
            "\u001b[0;32m/usr/local/lib/python3.8/dist-packages/keras/utils/traceback_utils.py\u001b[0m in \u001b[0;36merror_handler\u001b[0;34m(*args, **kwargs)\u001b[0m\n\u001b[1;32m     62\u001b[0m     \u001b[0mfiltered_tb\u001b[0m \u001b[0;34m=\u001b[0m \u001b[0;32mNone\u001b[0m\u001b[0;34m\u001b[0m\u001b[0;34m\u001b[0m\u001b[0m\n\u001b[1;32m     63\u001b[0m     \u001b[0;32mtry\u001b[0m\u001b[0;34m:\u001b[0m\u001b[0;34m\u001b[0m\u001b[0;34m\u001b[0m\u001b[0m\n\u001b[0;32m---> 64\u001b[0;31m       \u001b[0;32mreturn\u001b[0m \u001b[0mfn\u001b[0m\u001b[0;34m(\u001b[0m\u001b[0;34m*\u001b[0m\u001b[0margs\u001b[0m\u001b[0;34m,\u001b[0m \u001b[0;34m**\u001b[0m\u001b[0mkwargs\u001b[0m\u001b[0;34m)\u001b[0m\u001b[0;34m\u001b[0m\u001b[0;34m\u001b[0m\u001b[0m\n\u001b[0m\u001b[1;32m     65\u001b[0m     \u001b[0;32mexcept\u001b[0m \u001b[0mException\u001b[0m \u001b[0;32mas\u001b[0m \u001b[0me\u001b[0m\u001b[0;34m:\u001b[0m  \u001b[0;31m# pylint: disable=broad-except\u001b[0m\u001b[0;34m\u001b[0m\u001b[0;34m\u001b[0m\u001b[0m\n\u001b[1;32m     66\u001b[0m       \u001b[0mfiltered_tb\u001b[0m \u001b[0;34m=\u001b[0m \u001b[0m_process_traceback_frames\u001b[0m\u001b[0;34m(\u001b[0m\u001b[0me\u001b[0m\u001b[0;34m.\u001b[0m\u001b[0m__traceback__\u001b[0m\u001b[0;34m)\u001b[0m\u001b[0;34m\u001b[0m\u001b[0;34m\u001b[0m\u001b[0m\n",
            "\u001b[0;32m/usr/local/lib/python3.8/dist-packages/keras/engine/training.py\u001b[0m in \u001b[0;36mfit\u001b[0;34m(self, x, y, batch_size, epochs, verbose, callbacks, validation_split, validation_data, shuffle, class_weight, sample_weight, initial_epoch, steps_per_epoch, validation_steps, validation_batch_size, validation_freq, max_queue_size, workers, use_multiprocessing)\u001b[0m\n\u001b[1;32m   1443\u001b[0m                 \u001b[0mmodel\u001b[0m\u001b[0;34m=\u001b[0m\u001b[0mself\u001b[0m\u001b[0;34m,\u001b[0m\u001b[0;34m\u001b[0m\u001b[0;34m\u001b[0m\u001b[0m\n\u001b[1;32m   1444\u001b[0m                 steps_per_execution=self._steps_per_execution)\n\u001b[0;32m-> 1445\u001b[0;31m           val_logs = self.evaluate(\n\u001b[0m\u001b[1;32m   1446\u001b[0m               \u001b[0mx\u001b[0m\u001b[0;34m=\u001b[0m\u001b[0mval_x\u001b[0m\u001b[0;34m,\u001b[0m\u001b[0;34m\u001b[0m\u001b[0;34m\u001b[0m\u001b[0m\n\u001b[1;32m   1447\u001b[0m               \u001b[0my\u001b[0m\u001b[0;34m=\u001b[0m\u001b[0mval_y\u001b[0m\u001b[0;34m,\u001b[0m\u001b[0;34m\u001b[0m\u001b[0;34m\u001b[0m\u001b[0m\n",
            "\u001b[0;32m/usr/local/lib/python3.8/dist-packages/keras/utils/traceback_utils.py\u001b[0m in \u001b[0;36merror_handler\u001b[0;34m(*args, **kwargs)\u001b[0m\n\u001b[1;32m     62\u001b[0m     \u001b[0mfiltered_tb\u001b[0m \u001b[0;34m=\u001b[0m \u001b[0;32mNone\u001b[0m\u001b[0;34m\u001b[0m\u001b[0;34m\u001b[0m\u001b[0m\n\u001b[1;32m     63\u001b[0m     \u001b[0;32mtry\u001b[0m\u001b[0;34m:\u001b[0m\u001b[0;34m\u001b[0m\u001b[0;34m\u001b[0m\u001b[0m\n\u001b[0;32m---> 64\u001b[0;31m       \u001b[0;32mreturn\u001b[0m \u001b[0mfn\u001b[0m\u001b[0;34m(\u001b[0m\u001b[0;34m*\u001b[0m\u001b[0margs\u001b[0m\u001b[0;34m,\u001b[0m \u001b[0;34m**\u001b[0m\u001b[0mkwargs\u001b[0m\u001b[0;34m)\u001b[0m\u001b[0;34m\u001b[0m\u001b[0;34m\u001b[0m\u001b[0m\n\u001b[0m\u001b[1;32m     65\u001b[0m     \u001b[0;32mexcept\u001b[0m \u001b[0mException\u001b[0m \u001b[0;32mas\u001b[0m \u001b[0me\u001b[0m\u001b[0;34m:\u001b[0m  \u001b[0;31m# pylint: disable=broad-except\u001b[0m\u001b[0;34m\u001b[0m\u001b[0;34m\u001b[0m\u001b[0m\n\u001b[1;32m     66\u001b[0m       \u001b[0mfiltered_tb\u001b[0m \u001b[0;34m=\u001b[0m \u001b[0m_process_traceback_frames\u001b[0m\u001b[0;34m(\u001b[0m\u001b[0me\u001b[0m\u001b[0;34m.\u001b[0m\u001b[0m__traceback__\u001b[0m\u001b[0;34m)\u001b[0m\u001b[0;34m\u001b[0m\u001b[0;34m\u001b[0m\u001b[0m\n",
            "\u001b[0;32m/usr/local/lib/python3.8/dist-packages/keras/engine/training.py\u001b[0m in \u001b[0;36mevaluate\u001b[0;34m(self, x, y, batch_size, verbose, sample_weight, steps, callbacks, max_queue_size, workers, use_multiprocessing, return_dict, **kwargs)\u001b[0m\n\u001b[1;32m   1754\u001b[0m             \u001b[0;32mwith\u001b[0m \u001b[0mtf\u001b[0m\u001b[0;34m.\u001b[0m\u001b[0mprofiler\u001b[0m\u001b[0;34m.\u001b[0m\u001b[0mexperimental\u001b[0m\u001b[0;34m.\u001b[0m\u001b[0mTrace\u001b[0m\u001b[0;34m(\u001b[0m\u001b[0;34m'test'\u001b[0m\u001b[0;34m,\u001b[0m \u001b[0mstep_num\u001b[0m\u001b[0;34m=\u001b[0m\u001b[0mstep\u001b[0m\u001b[0;34m,\u001b[0m \u001b[0m_r\u001b[0m\u001b[0;34m=\u001b[0m\u001b[0;36m1\u001b[0m\u001b[0;34m)\u001b[0m\u001b[0;34m:\u001b[0m\u001b[0;34m\u001b[0m\u001b[0;34m\u001b[0m\u001b[0m\n\u001b[1;32m   1755\u001b[0m               \u001b[0mcallbacks\u001b[0m\u001b[0;34m.\u001b[0m\u001b[0mon_test_batch_begin\u001b[0m\u001b[0;34m(\u001b[0m\u001b[0mstep\u001b[0m\u001b[0;34m)\u001b[0m\u001b[0;34m\u001b[0m\u001b[0;34m\u001b[0m\u001b[0m\n\u001b[0;32m-> 1756\u001b[0;31m               \u001b[0mtmp_logs\u001b[0m \u001b[0;34m=\u001b[0m \u001b[0mself\u001b[0m\u001b[0;34m.\u001b[0m\u001b[0mtest_function\u001b[0m\u001b[0;34m(\u001b[0m\u001b[0miterator\u001b[0m\u001b[0;34m)\u001b[0m\u001b[0;34m\u001b[0m\u001b[0;34m\u001b[0m\u001b[0m\n\u001b[0m\u001b[1;32m   1757\u001b[0m               \u001b[0;32mif\u001b[0m \u001b[0mdata_handler\u001b[0m\u001b[0;34m.\u001b[0m\u001b[0mshould_sync\u001b[0m\u001b[0;34m:\u001b[0m\u001b[0;34m\u001b[0m\u001b[0;34m\u001b[0m\u001b[0m\n\u001b[1;32m   1758\u001b[0m                 \u001b[0mcontext\u001b[0m\u001b[0;34m.\u001b[0m\u001b[0masync_wait\u001b[0m\u001b[0;34m(\u001b[0m\u001b[0;34m)\u001b[0m\u001b[0;34m\u001b[0m\u001b[0;34m\u001b[0m\u001b[0m\n",
            "\u001b[0;32m/usr/local/lib/python3.8/dist-packages/tensorflow/python/util/traceback_utils.py\u001b[0m in \u001b[0;36merror_handler\u001b[0;34m(*args, **kwargs)\u001b[0m\n\u001b[1;32m    148\u001b[0m     \u001b[0mfiltered_tb\u001b[0m \u001b[0;34m=\u001b[0m \u001b[0;32mNone\u001b[0m\u001b[0;34m\u001b[0m\u001b[0;34m\u001b[0m\u001b[0m\n\u001b[1;32m    149\u001b[0m     \u001b[0;32mtry\u001b[0m\u001b[0;34m:\u001b[0m\u001b[0;34m\u001b[0m\u001b[0;34m\u001b[0m\u001b[0m\n\u001b[0;32m--> 150\u001b[0;31m       \u001b[0;32mreturn\u001b[0m \u001b[0mfn\u001b[0m\u001b[0;34m(\u001b[0m\u001b[0;34m*\u001b[0m\u001b[0margs\u001b[0m\u001b[0;34m,\u001b[0m \u001b[0;34m**\u001b[0m\u001b[0mkwargs\u001b[0m\u001b[0;34m)\u001b[0m\u001b[0;34m\u001b[0m\u001b[0;34m\u001b[0m\u001b[0m\n\u001b[0m\u001b[1;32m    151\u001b[0m     \u001b[0;32mexcept\u001b[0m \u001b[0mException\u001b[0m \u001b[0;32mas\u001b[0m \u001b[0me\u001b[0m\u001b[0;34m:\u001b[0m\u001b[0;34m\u001b[0m\u001b[0;34m\u001b[0m\u001b[0m\n\u001b[1;32m    152\u001b[0m       \u001b[0mfiltered_tb\u001b[0m \u001b[0;34m=\u001b[0m \u001b[0m_process_traceback_frames\u001b[0m\u001b[0;34m(\u001b[0m\u001b[0me\u001b[0m\u001b[0;34m.\u001b[0m\u001b[0m__traceback__\u001b[0m\u001b[0;34m)\u001b[0m\u001b[0;34m\u001b[0m\u001b[0;34m\u001b[0m\u001b[0m\n",
            "\u001b[0;32m/usr/local/lib/python3.8/dist-packages/tensorflow/python/eager/def_function.py\u001b[0m in \u001b[0;36m__call__\u001b[0;34m(self, *args, **kwds)\u001b[0m\n\u001b[1;32m    913\u001b[0m \u001b[0;34m\u001b[0m\u001b[0m\n\u001b[1;32m    914\u001b[0m       \u001b[0;32mwith\u001b[0m \u001b[0mOptionalXlaContext\u001b[0m\u001b[0;34m(\u001b[0m\u001b[0mself\u001b[0m\u001b[0;34m.\u001b[0m\u001b[0m_jit_compile\u001b[0m\u001b[0;34m)\u001b[0m\u001b[0;34m:\u001b[0m\u001b[0;34m\u001b[0m\u001b[0;34m\u001b[0m\u001b[0m\n\u001b[0;32m--> 915\u001b[0;31m         \u001b[0mresult\u001b[0m \u001b[0;34m=\u001b[0m \u001b[0mself\u001b[0m\u001b[0;34m.\u001b[0m\u001b[0m_call\u001b[0m\u001b[0;34m(\u001b[0m\u001b[0;34m*\u001b[0m\u001b[0margs\u001b[0m\u001b[0;34m,\u001b[0m \u001b[0;34m**\u001b[0m\u001b[0mkwds\u001b[0m\u001b[0;34m)\u001b[0m\u001b[0;34m\u001b[0m\u001b[0;34m\u001b[0m\u001b[0m\n\u001b[0m\u001b[1;32m    916\u001b[0m \u001b[0;34m\u001b[0m\u001b[0m\n\u001b[1;32m    917\u001b[0m       \u001b[0mnew_tracing_count\u001b[0m \u001b[0;34m=\u001b[0m \u001b[0mself\u001b[0m\u001b[0;34m.\u001b[0m\u001b[0mexperimental_get_tracing_count\u001b[0m\u001b[0;34m(\u001b[0m\u001b[0;34m)\u001b[0m\u001b[0;34m\u001b[0m\u001b[0;34m\u001b[0m\u001b[0m\n",
            "\u001b[0;32m/usr/local/lib/python3.8/dist-packages/tensorflow/python/eager/def_function.py\u001b[0m in \u001b[0;36m_call\u001b[0;34m(self, *args, **kwds)\u001b[0m\n\u001b[1;32m    952\u001b[0m       \u001b[0;31m# In this case we have not created variables on the first call. So we can\u001b[0m\u001b[0;34m\u001b[0m\u001b[0;34m\u001b[0m\u001b[0;34m\u001b[0m\u001b[0m\n\u001b[1;32m    953\u001b[0m       \u001b[0;31m# run the first trace but we should fail if variables are created.\u001b[0m\u001b[0;34m\u001b[0m\u001b[0;34m\u001b[0m\u001b[0;34m\u001b[0m\u001b[0m\n\u001b[0;32m--> 954\u001b[0;31m       \u001b[0mresults\u001b[0m \u001b[0;34m=\u001b[0m \u001b[0mself\u001b[0m\u001b[0;34m.\u001b[0m\u001b[0m_stateful_fn\u001b[0m\u001b[0;34m(\u001b[0m\u001b[0;34m*\u001b[0m\u001b[0margs\u001b[0m\u001b[0;34m,\u001b[0m \u001b[0;34m**\u001b[0m\u001b[0mkwds\u001b[0m\u001b[0;34m)\u001b[0m\u001b[0;34m\u001b[0m\u001b[0;34m\u001b[0m\u001b[0m\n\u001b[0m\u001b[1;32m    955\u001b[0m       \u001b[0;32mif\u001b[0m \u001b[0mself\u001b[0m\u001b[0;34m.\u001b[0m\u001b[0m_created_variables\u001b[0m \u001b[0;32mand\u001b[0m \u001b[0;32mnot\u001b[0m \u001b[0mALLOW_DYNAMIC_VARIABLE_CREATION\u001b[0m\u001b[0;34m:\u001b[0m\u001b[0;34m\u001b[0m\u001b[0;34m\u001b[0m\u001b[0m\n\u001b[1;32m    956\u001b[0m         raise ValueError(\"Creating variables on a non-first call to a function\"\n",
            "\u001b[0;32m/usr/local/lib/python3.8/dist-packages/tensorflow/python/eager/function.py\u001b[0m in \u001b[0;36m__call__\u001b[0;34m(self, *args, **kwargs)\u001b[0m\n\u001b[1;32m   2451\u001b[0m       (graph_function,\n\u001b[1;32m   2452\u001b[0m        filtered_flat_args) = self._maybe_define_function(args, kwargs)\n\u001b[0;32m-> 2453\u001b[0;31m     return graph_function._call_flat(\n\u001b[0m\u001b[1;32m   2454\u001b[0m         filtered_flat_args, captured_inputs=graph_function.captured_inputs)  # pylint: disable=protected-access\n\u001b[1;32m   2455\u001b[0m \u001b[0;34m\u001b[0m\u001b[0m\n",
            "\u001b[0;32m/usr/local/lib/python3.8/dist-packages/tensorflow/python/eager/function.py\u001b[0m in \u001b[0;36m_call_flat\u001b[0;34m(self, args, captured_inputs, cancellation_manager)\u001b[0m\n\u001b[1;32m   1858\u001b[0m         and executing_eagerly):\n\u001b[1;32m   1859\u001b[0m       \u001b[0;31m# No tape is watching; skip to running the function.\u001b[0m\u001b[0;34m\u001b[0m\u001b[0;34m\u001b[0m\u001b[0;34m\u001b[0m\u001b[0m\n\u001b[0;32m-> 1860\u001b[0;31m       return self._build_call_outputs(self._inference_function.call(\n\u001b[0m\u001b[1;32m   1861\u001b[0m           ctx, args, cancellation_manager=cancellation_manager))\n\u001b[1;32m   1862\u001b[0m     forward_backward = self._select_forward_and_backward_functions(\n",
            "\u001b[0;32m/usr/local/lib/python3.8/dist-packages/tensorflow/python/eager/function.py\u001b[0m in \u001b[0;36mcall\u001b[0;34m(self, ctx, args, cancellation_manager)\u001b[0m\n\u001b[1;32m    495\u001b[0m       \u001b[0;32mwith\u001b[0m \u001b[0m_InterpolateFunctionError\u001b[0m\u001b[0;34m(\u001b[0m\u001b[0mself\u001b[0m\u001b[0;34m)\u001b[0m\u001b[0;34m:\u001b[0m\u001b[0;34m\u001b[0m\u001b[0;34m\u001b[0m\u001b[0m\n\u001b[1;32m    496\u001b[0m         \u001b[0;32mif\u001b[0m \u001b[0mcancellation_manager\u001b[0m \u001b[0;32mis\u001b[0m \u001b[0;32mNone\u001b[0m\u001b[0;34m:\u001b[0m\u001b[0;34m\u001b[0m\u001b[0;34m\u001b[0m\u001b[0m\n\u001b[0;32m--> 497\u001b[0;31m           outputs = execute.execute(\n\u001b[0m\u001b[1;32m    498\u001b[0m               \u001b[0mstr\u001b[0m\u001b[0;34m(\u001b[0m\u001b[0mself\u001b[0m\u001b[0;34m.\u001b[0m\u001b[0msignature\u001b[0m\u001b[0;34m.\u001b[0m\u001b[0mname\u001b[0m\u001b[0;34m)\u001b[0m\u001b[0;34m,\u001b[0m\u001b[0;34m\u001b[0m\u001b[0;34m\u001b[0m\u001b[0m\n\u001b[1;32m    499\u001b[0m               \u001b[0mnum_outputs\u001b[0m\u001b[0;34m=\u001b[0m\u001b[0mself\u001b[0m\u001b[0;34m.\u001b[0m\u001b[0m_num_outputs\u001b[0m\u001b[0;34m,\u001b[0m\u001b[0;34m\u001b[0m\u001b[0;34m\u001b[0m\u001b[0m\n",
            "\u001b[0;32m/usr/local/lib/python3.8/dist-packages/tensorflow/python/eager/execute.py\u001b[0m in \u001b[0;36mquick_execute\u001b[0;34m(op_name, num_outputs, inputs, attrs, ctx, name)\u001b[0m\n\u001b[1;32m     52\u001b[0m   \u001b[0;32mtry\u001b[0m\u001b[0;34m:\u001b[0m\u001b[0;34m\u001b[0m\u001b[0;34m\u001b[0m\u001b[0m\n\u001b[1;32m     53\u001b[0m     \u001b[0mctx\u001b[0m\u001b[0;34m.\u001b[0m\u001b[0mensure_initialized\u001b[0m\u001b[0;34m(\u001b[0m\u001b[0;34m)\u001b[0m\u001b[0;34m\u001b[0m\u001b[0;34m\u001b[0m\u001b[0m\n\u001b[0;32m---> 54\u001b[0;31m     tensors = pywrap_tfe.TFE_Py_Execute(ctx._handle, device_name, op_name,\n\u001b[0m\u001b[1;32m     55\u001b[0m                                         inputs, attrs, num_outputs)\n\u001b[1;32m     56\u001b[0m   \u001b[0;32mexcept\u001b[0m \u001b[0mcore\u001b[0m\u001b[0;34m.\u001b[0m\u001b[0m_NotOkStatusException\u001b[0m \u001b[0;32mas\u001b[0m \u001b[0me\u001b[0m\u001b[0;34m:\u001b[0m\u001b[0;34m\u001b[0m\u001b[0;34m\u001b[0m\u001b[0m\n",
            "\u001b[0;31mKeyboardInterrupt\u001b[0m: "
          ]
        }
      ],
      "source": [
        "history = model.fit(train_dataset, validation_data=validation_dataset, epochs=50, callbacks=[checkpoint, tensorboard_callback])"
      ]
    },
    {
      "cell_type": "markdown",
      "metadata": {
        "id": "h5TbWfZu8Lul"
      },
      "source": [
        "# VGG16"
      ]
    },
    {
      "cell_type": "code",
      "execution_count": null,
      "metadata": {
        "id": "qcvHlB-D8O-H"
      },
      "outputs": [],
      "source": [
        "model = tf.keras.applications.vgg19.VGG19(\n",
        "    include_top=False,\n",
        "    weights='imagenet',\n",
        "    pooling=True,\n",
        "    classes=7,\n",
        "    classifier_activation='softmax',\n",
        "    input_shape = (224, 224, 3)\n",
        ")"
      ]
    },
    {
      "cell_type": "code",
      "execution_count": null,
      "metadata": {
        "colab": {
          "base_uri": "https://localhost:8080/"
        },
        "id": "DaTALFh99rr1",
        "outputId": "0a67603d-cd90-4546-e80f-9ea09264e758"
      },
      "outputs": [
        {
          "name": "stdout",
          "output_type": "stream",
          "text": [
            "Model: \"vgg19\"\n",
            "_________________________________________________________________\n",
            " Layer (type)                Output Shape              Param #   \n",
            "=================================================================\n",
            " input_5 (InputLayer)        [(None, 224, 224, 3)]     0         \n",
            "                                                                 \n",
            " block1_conv1 (Conv2D)       (None, 224, 224, 64)      1792      \n",
            "                                                                 \n",
            " block1_conv2 (Conv2D)       (None, 224, 224, 64)      36928     \n",
            "                                                                 \n",
            " block1_pool (MaxPooling2D)  (None, 112, 112, 64)      0         \n",
            "                                                                 \n",
            " block2_conv1 (Conv2D)       (None, 112, 112, 128)     73856     \n",
            "                                                                 \n",
            " block2_conv2 (Conv2D)       (None, 112, 112, 128)     147584    \n",
            "                                                                 \n",
            " block2_pool (MaxPooling2D)  (None, 56, 56, 128)       0         \n",
            "                                                                 \n",
            " block3_conv1 (Conv2D)       (None, 56, 56, 256)       295168    \n",
            "                                                                 \n",
            " block3_conv2 (Conv2D)       (None, 56, 56, 256)       590080    \n",
            "                                                                 \n",
            " block3_conv3 (Conv2D)       (None, 56, 56, 256)       590080    \n",
            "                                                                 \n",
            " block3_conv4 (Conv2D)       (None, 56, 56, 256)       590080    \n",
            "                                                                 \n",
            " block3_pool (MaxPooling2D)  (None, 28, 28, 256)       0         \n",
            "                                                                 \n",
            " block4_conv1 (Conv2D)       (None, 28, 28, 512)       1180160   \n",
            "                                                                 \n",
            " block4_conv2 (Conv2D)       (None, 28, 28, 512)       2359808   \n",
            "                                                                 \n",
            " block4_conv3 (Conv2D)       (None, 28, 28, 512)       2359808   \n",
            "                                                                 \n",
            " block4_conv4 (Conv2D)       (None, 28, 28, 512)       2359808   \n",
            "                                                                 \n",
            " block4_pool (MaxPooling2D)  (None, 14, 14, 512)       0         \n",
            "                                                                 \n",
            " block5_conv1 (Conv2D)       (None, 14, 14, 512)       2359808   \n",
            "                                                                 \n",
            " block5_conv2 (Conv2D)       (None, 14, 14, 512)       2359808   \n",
            "                                                                 \n",
            " block5_conv3 (Conv2D)       (None, 14, 14, 512)       2359808   \n",
            "                                                                 \n",
            " block5_conv4 (Conv2D)       (None, 14, 14, 512)       2359808   \n",
            "                                                                 \n",
            " block5_pool (MaxPooling2D)  (None, 7, 7, 512)         0         \n",
            "                                                                 \n",
            "=================================================================\n",
            "Total params: 20,024,384\n",
            "Trainable params: 20,024,384\n",
            "Non-trainable params: 0\n",
            "_________________________________________________________________\n"
          ]
        }
      ],
      "source": [
        "model.summary()"
      ]
    },
    {
      "cell_type": "code",
      "execution_count": null,
      "metadata": {
        "id": "yS6UH5co9-FK"
      },
      "outputs": [],
      "source": [
        "model = Sequential([\n",
        "        model,\n",
        "        \n",
        "        Flatten(),\n",
        "\n",
        "        Dense(1024, activation='relu'),\n",
        "        Dense(7, activation='softmax')\n",
        "    ])"
      ]
    },
    {
      "cell_type": "code",
      "execution_count": null,
      "metadata": {
        "colab": {
          "base_uri": "https://localhost:8080/"
        },
        "id": "O31dpfZW96kv",
        "outputId": "599346c9-1d50-452b-841e-94f290a0c0a4"
      },
      "outputs": [
        {
          "name": "stdout",
          "output_type": "stream",
          "text": [
            "Model: \"sequential_6\"\n",
            "_________________________________________________________________\n",
            " Layer (type)                Output Shape              Param #   \n",
            "=================================================================\n",
            " vgg19 (Functional)          (None, 7, 7, 512)         20024384  \n",
            "                                                                 \n",
            " flatten_6 (Flatten)         (None, 25088)             0         \n",
            "                                                                 \n",
            " dense_13 (Dense)            (None, 1024)              25691136  \n",
            "                                                                 \n",
            " dense_14 (Dense)            (None, 7)                 7175      \n",
            "                                                                 \n",
            "=================================================================\n",
            "Total params: 45,722,695\n",
            "Trainable params: 45,722,695\n",
            "Non-trainable params: 0\n",
            "_________________________________________________________________\n"
          ]
        }
      ],
      "source": [
        "model.summary()"
      ]
    },
    {
      "cell_type": "code",
      "execution_count": null,
      "metadata": {
        "id": "yS0gr8jb_ESF"
      },
      "outputs": [],
      "source": [
        "model.compile(loss='sparse_categorical_crossentropy', optimizer='adam', metrics=['accuracy'])"
      ]
    },
    {
      "cell_type": "code",
      "execution_count": null,
      "metadata": {
        "id": "KFmmlcBq_KgC"
      },
      "outputs": [],
      "source": [
        "dt = datetime.now().strftime('%d_%m_%Y_%H_%M')\n",
        "filepath = os.path.join('output', 'model_' + dt + '.hdf5')\n",
        "checkpoint = ModelCheckpoint(filepath=filepath, monitor='val_accuracy', save_best_only=True)"
      ]
    },
    {
      "cell_type": "code",
      "execution_count": null,
      "metadata": {
        "id": "vhoo828u_Kmk"
      },
      "outputs": [],
      "source": [
        "log_dir = \"logs/fit/\" + datetime.now().strftime(\"%Y%m%d-%H%M%S\")\n",
        "tensorboard_callback = tf.keras.callbacks.TensorBoard(log_dir=log_dir, histogram_freq=1)"
      ]
    },
    {
      "cell_type": "code",
      "execution_count": null,
      "metadata": {
        "id": "bczdF4tk_KrV"
      },
      "outputs": [],
      "source": [
        "history = model.fit(train_dataset, validation_data=validation_dataset, epochs=70, callbacks=[checkpoint, tensorboard_callback])"
      ]
    },
    {
      "cell_type": "code",
      "execution_count": null,
      "metadata": {
        "colab": {
          "base_uri": "https://localhost:8080/"
        },
        "id": "jkHpf4QLyj7r",
        "outputId": "a046d1c0-da9b-4697-825f-1ce1fa680957"
      },
      "outputs": [
        {
          "name": "stdout",
          "output_type": "stream",
          "text": [
            "Model: output/model_04_01_2023_10_46.hdf5\n",
            "[INFO] Loading model...\n"
          ]
        }
      ],
      "source": [
        "import pickle\n",
        "\n",
        "print('Model: ' + 'output/model_' + dt + '.hdf5')\n",
        "print('[INFO] Loading model...')\n",
        "model = load_model('output/model_'+dt+'.hdf5')"
      ]
    },
    {
      "cell_type": "code",
      "execution_count": null,
      "metadata": {
        "colab": {
          "base_uri": "https://localhost:8080/"
        },
        "id": "JL2Lp4ut2WWQ",
        "outputId": "1ac0dfea-3440-404e-d0e9-a8c50dceb475"
      },
      "outputs": [
        {
          "name": "stdout",
          "output_type": "stream",
          "text": [
            "[INFO] Etykiety: ['0' '1' '2' '3' '4' '5' '6']\n",
            "[INFO] Eksport etykiet do pliku...\n"
          ]
        }
      ],
      "source": [
        "mlb = MultiLabelBinarizer()\n",
        "labels = mlb.fit_transform([str(i) for i in labels])\n",
        "print(f'[INFO] Etykiety: {mlb.classes_}')\n",
        "\n",
        "print('[INFO] Eksport etykiet do pliku...')\n",
        "with open(r'output/mlb.pickle', 'bw') as file:\n",
        "    pickle.dump(mlb, file)"
      ]
    },
    {
      "cell_type": "code",
      "execution_count": null,
      "metadata": {
        "id": "WY9smSRS5BDQ"
      },
      "outputs": [],
      "source": [
        "test_images = []\n",
        "\n",
        "for dir in os.listdir(\"data/test\"):\n",
        "  for file in os.listdir(f\"data/test/{dir}\"):\n",
        "      test_images.append(f\"data/test/{dir}/{file}\")\n",
        "\n",
        "random.shuffle(test_images)"
      ]
    },
    {
      "cell_type": "code",
      "execution_count": null,
      "metadata": {
        "colab": {
          "background_save": true
        },
        "id": "MYxh7QMkzPvH"
      },
      "outputs": [],
      "source": [
        "class_mapping = {\n",
        "    '1': \"Brak wielowypustu\",\n",
        "    '2': \"Niezahartowana\",\n",
        "    '3': \"Niezahartowana / Brak kanalka\",\n",
        "    '4': \"Poprawna\",\n",
        "    '5': \"Brak kanalka\",\n",
        "    '6': \"Srodek Nieobrobiony\",\n",
        "    '7': \"Srodek Nieobrobiony / Brak kanalka\"\n",
        "}\n",
        "\n",
        "for path in test_images[:30]:\n",
        "  image = cv2.imread(path)\n",
        "  nativ = image.copy()\n",
        "  image = image.reshape(1, 510, 510, 3)\n",
        "  y_pred = model.predict(image)[0]\n",
        "\n",
        "  labels = dict(enumerate(mlb.classes_))\n",
        "  idxs = np.argsort(y_pred)[::-1]\n",
        "\n",
        "  real_class = path.split(\"/\")[2]\n",
        "\n",
        "  pred = str(int(labels[idxs[0]]) + 1)\n",
        "\n",
        "  if real_class == pred:\n",
        "    color = (0, 255, 0)\n",
        "  else:\n",
        "    color = (0, 0, 255)\n",
        "\n",
        "  cv2.putText(nativ, f\"Class predcited: {class_mapping[pred]} ({pred}) - {round((y_pred[idxs[0]] * 100), 2)}%\",\n",
        "                                  (10, 30),\n",
        "                                  cv2.FONT_HERSHEY_SIMPLEX, 0.6, color, 2)\n",
        "  \n",
        "  cv2.putText(nativ, f\"Class real: {class_mapping[real_class]} ({real_class})\",\n",
        "                                  (10, 70),\n",
        "                                  cv2.FONT_HERSHEY_SIMPLEX, 0.6, color, 2)\n",
        "\n",
        "  cv2_imshow(nativ)"
      ]
    }
  ],
  "metadata": {
    "accelerator": "GPU",
    "colab": {
      "machine_shape": "hm",
      "provenance": [],
      "authorship_tag": "ABX9TyN45S5lrgLAVSfHw7pILfQ3",
      "include_colab_link": true
    },
    "gpuClass": "standard",
    "kernelspec": {
      "display_name": "Python 3",
      "name": "python3"
    },
    "language_info": {
      "name": "python"
    }
  },
  "nbformat": 4,
  "nbformat_minor": 0
}