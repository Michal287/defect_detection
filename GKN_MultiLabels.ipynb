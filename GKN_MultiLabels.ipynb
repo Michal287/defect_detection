{
  "nbformat": 4,
  "nbformat_minor": 0,
  "metadata": {
    "colab": {
      "provenance": [],
      "machine_shape": "hm",
      "authorship_tag": "ABX9TyNMjA17Mkn7/DpkfBFIzodT",
      "include_colab_link": true
    },
    "kernelspec": {
      "name": "python3",
      "display_name": "Python 3"
    },
    "language_info": {
      "name": "python"
    },
    "accelerator": "GPU",
    "gpuClass": "standard"
  },
  "cells": [
    {
      "cell_type": "markdown",
      "metadata": {
        "id": "view-in-github",
        "colab_type": "text"
      },
      "source": [
        "<a href=\"https://colab.research.google.com/github/Michal287/defect_detection/blob/main/GKN_MultiLabels.ipynb\" target=\"_parent\"><img src=\"https://colab.research.google.com/assets/colab-badge.svg\" alt=\"Open In Colab\"/></a>"
      ]
    },
    {
      "cell_type": "markdown",
      "source": [
        "# Instalations"
      ],
      "metadata": {
        "id": "-ugmYQC-MeWz"
      }
    },
    {
      "cell_type": "code",
      "execution_count": 1,
      "metadata": {
        "id": "D59OlUDmMX9x"
      },
      "outputs": [],
      "source": [
        "%pip install -q split_folders\n",
        "# %pip install -q tensorflow-addons"
      ]
    },
    {
      "cell_type": "markdown",
      "source": [
        "# Imports"
      ],
      "metadata": {
        "id": "c9skG8y0Mg-5"
      }
    },
    {
      "cell_type": "code",
      "source": [
        "# #tensorflow addons\n",
        "# from tensorflow_addons.metrics import HammingLoss\n",
        "\n",
        "#os\n",
        "from google.colab import drive\n",
        "import os\n",
        "from datetime import datetime\n",
        "\n",
        "#tensorflow tools\n",
        "import tensorflow as tf\n",
        "from tensorflow.keras.preprocessing.image import img_to_array\n",
        "from tensorflow.keras.callbacks import ModelCheckpoint\n",
        "from tensorflow.keras.utils import load_img\n",
        "\n",
        "#tensorflow architecture\n",
        "from tensorflow.keras.layers import Conv2D, MaxPool2D, Rescaling, Dense, Dropout, LayerNormalization, Flatten, Resizing, Rescaling, InputLayer, GlobalAveragePooling2D\n",
        "from tensorflow.keras.models import Sequential, load_model\n",
        "\n",
        "#keras\n",
        "from keras_preprocessing.image import ImageDataGenerator\n",
        "\n",
        "#agumentation\n",
        "import albumentations as A\n",
        "\n",
        "#tensorboard\n",
        "%load_ext tensorboard\n",
        "\n",
        "#cv2\n",
        "import cv2\n",
        "from google.colab.patches import cv2_imshow\n",
        "\n",
        "#sklearn\n",
        "from sklearn.preprocessing import MultiLabelBinarizer\n",
        "from sklearn.model_selection import train_test_split\n",
        "\n",
        "#tools\n",
        "import random\n",
        "import numpy as np\n",
        "import splitfolders\n",
        "from tqdm import tqdm\n",
        "import pandas as pd\n",
        "from PIL import Image\n",
        "\n",
        "#plt\n",
        "import matplotlib.pyplot as plt"
      ],
      "metadata": {
        "id": "kcZFOmmjMknh"
      },
      "execution_count": 2,
      "outputs": []
    },
    {
      "cell_type": "markdown",
      "source": [
        "# Connect to google drive"
      ],
      "metadata": {
        "id": "XAsRf8ZyMpYh"
      }
    },
    {
      "cell_type": "code",
      "source": [
        "drive.mount('/content/drive')\n",
        "!unzip -q /content/drive/MyDrive/images.zip"
      ],
      "metadata": {
        "colab": {
          "base_uri": "https://localhost:8080/"
        },
        "id": "kf5vxKOkMpzq",
        "outputId": "57cc3215-6b28-4b28-ebf9-fd697370e609"
      },
      "execution_count": 3,
      "outputs": [
        {
          "output_type": "stream",
          "name": "stdout",
          "text": [
            "Mounted at /content/drive\n"
          ]
        }
      ]
    },
    {
      "cell_type": "markdown",
      "source": [
        "# Checking GPU"
      ],
      "metadata": {
        "id": "yXxxuLBoMvU6"
      }
    },
    {
      "cell_type": "code",
      "source": [
        "!nvidia-smi"
      ],
      "metadata": {
        "colab": {
          "base_uri": "https://localhost:8080/"
        },
        "id": "AQhn3h_cMxPp",
        "outputId": "1d327bce-4ae6-4a2d-e6ce-5314b9d4ce8e"
      },
      "execution_count": 4,
      "outputs": [
        {
          "output_type": "stream",
          "name": "stdout",
          "text": [
            "Fri Jan 13 08:21:51 2023       \n",
            "+-----------------------------------------------------------------------------+\n",
            "| NVIDIA-SMI 460.32.03    Driver Version: 460.32.03    CUDA Version: 11.2     |\n",
            "|-------------------------------+----------------------+----------------------+\n",
            "| GPU  Name        Persistence-M| Bus-Id        Disp.A | Volatile Uncorr. ECC |\n",
            "| Fan  Temp  Perf  Pwr:Usage/Cap|         Memory-Usage | GPU-Util  Compute M. |\n",
            "|                               |                      |               MIG M. |\n",
            "|===============================+======================+======================|\n",
            "|   0  Tesla T4            Off  | 00000000:00:04.0 Off |                    0 |\n",
            "| N/A   43C    P8     9W /  70W |      0MiB / 15109MiB |      0%      Default |\n",
            "|                               |                      |                  N/A |\n",
            "+-------------------------------+----------------------+----------------------+\n",
            "                                                                               \n",
            "+-----------------------------------------------------------------------------+\n",
            "| Processes:                                                                  |\n",
            "|  GPU   GI   CI        PID   Type   Process name                  GPU Memory |\n",
            "|        ID   ID                                                   Usage      |\n",
            "|=============================================================================|\n",
            "|  No running processes found                                                 |\n",
            "+-----------------------------------------------------------------------------+\n"
          ]
        }
      ]
    },
    {
      "cell_type": "markdown",
      "source": [
        "# Static Functions"
      ],
      "metadata": {
        "id": "btFJDp9kMzqS"
      }
    },
    {
      "cell_type": "code",
      "source": [
        "def create_dir(path):\n",
        "    if not os.path.isdir(path):\n",
        "      os.mkdir(path)\n",
        "\n",
        "def copy_dirs_architecture(path_from, path_to):\n",
        "  for dir in os.listdir(path_from):\n",
        "    create_dir(path_to + \"/\" + dir)\n",
        "\n",
        "\n",
        "def get_files(path):\n",
        "  files = []\n",
        "\n",
        "  for dir in os.listdir(path):\n",
        "    for file in os.listdir(f\"{path}/{dir}\"):\n",
        "        files.append(f\"{path}/{dir}/{file}\")\n",
        "\n",
        "  return files"
      ],
      "metadata": {
        "id": "n5ZEGAXFM1cR"
      },
      "execution_count": 5,
      "outputs": []
    },
    {
      "cell_type": "markdown",
      "source": [
        "# Directors architecure"
      ],
      "metadata": {
        "id": "iRH98OLPM2mp"
      }
    },
    {
      "cell_type": "code",
      "source": [
        "class FilesArchitecture():\n",
        "  def __init__(self, dir_data, del_parent_dir=False):\n",
        "    #Create directory architecture copy data and delete old\n",
        "\n",
        "    # data/raw\n",
        "    create_dir('data')\n",
        "    create_dir('data/raw')\n",
        "\n",
        "    dir_data_command = dir_data + \"/.\"\n",
        "    data_raw_command = 'data/raw' + \"/.\"\n",
        "    %cp -R $dir_data_command $data_raw_command\n",
        "\n",
        "    if del_parent_dir:\n",
        "      if os.path.isdir(dir_data):\n",
        "        %rm -rf $dir_data\n",
        "\n",
        "    # data/processed\n",
        "    create_dir('data/processed')\n",
        "    copy_dirs_architecture('data/raw', 'data/processed')\n",
        "\n",
        "    self.raw_path = 'data/raw'\n",
        "    self.processed_path = 'data/processed'"
      ],
      "metadata": {
        "id": "Mjfqh3s9Y4yP"
      },
      "execution_count": 6,
      "outputs": []
    },
    {
      "cell_type": "markdown",
      "source": [
        "# Extend data\n"
      ],
      "metadata": {
        "id": "Tt4PLi5rZzx9"
      }
    },
    {
      "cell_type": "code",
      "source": [
        "class Agumentation():\n",
        "  def __init__(self, transform, extend_ratio, expansion_slayer={}):\n",
        "      print('Expansion data...')\n",
        "      \n",
        "      self.raw_path = 'data/raw'\n",
        "      self.processed_path = 'data/processed'\n",
        "\n",
        "      self.raw_files = get_files(self.raw_path)\n",
        "      \n",
        "      with tqdm(total=len(self.raw_files)) as pbar:\n",
        "\n",
        "        for file in self.raw_files:\n",
        "          image = cv2.imread(file)\n",
        "          cv2.imwrite(f\"{self.processed_path} + {'/'.join(file.split('/')[1:])}\", image)\n",
        "\n",
        "          for i in range(extend_ratio):\n",
        "            dir, filename = file.split(\"/\")[2:][0], file.split(\"/\")[2:][1]\n",
        "\n",
        "            if dir in expansion_slayer:\n",
        "\n",
        "              if int(expansion_slayer[dir] * 100) >= random.randint(1, 100):\n",
        "                filename = filename.split(\".\")\n",
        "                filename, ext = filename[0], filename[1]\n",
        "\n",
        "                image_aug = transform(image=image)[\"image\"]\n",
        "                cv2.imwrite(f\"{self.processed_path}/{dir}/{filename}_{i+1}.{ext}\", image_aug)\n",
        "\n",
        "            else:\n",
        "              filename = filename.split(\".\")\n",
        "              filename, ext = filename[0], filename[1]\n",
        "\n",
        "              image_aug = transform(image=image)[\"image\"]\n",
        "              cv2.imwrite(f\"{self.processed_path}/{dir}/{filename}_{i+1}.{ext}\", image_aug)\n",
        "          \n",
        "          pbar.update(1)"
      ],
      "metadata": {
        "id": "VYCli0OWZ3sm"
      },
      "execution_count": 7,
      "outputs": []
    },
    {
      "cell_type": "markdown",
      "source": [
        "# Plots"
      ],
      "metadata": {
        "id": "aSUQdMMga5B2"
      }
    },
    {
      "cell_type": "code",
      "source": [
        "class Plots():\n",
        "  def plot_amount_samples(path, label_num=False):\n",
        "    \n",
        "\n",
        "    if label_num:\n",
        "      labels = [int(i) for i in os.listdir(path)]\n",
        "      labels.sort()\n",
        "    else:\n",
        "      labels = [i for i in os.listdir(path)]\n",
        "\n",
        "    sum_files = []\n",
        "\n",
        "    for dir in labels:\n",
        "      dir_path = path + \"/\" + str(dir)\n",
        "      sum_files.append(len(os.listdir(dir_path)))\n",
        "\n",
        "    plt.bar(labels, sum_files, label=\"Sum images of classes\")\n",
        "    plt.plot()\n",
        "\n",
        "    plt.xlabel(\"Classes\")\n",
        "    plt.ylabel(\"Sum of images\")\n",
        "    plt.legend()\n",
        "    plt.show()"
      ],
      "metadata": {
        "id": "4YOFMa1Pa5-3"
      },
      "execution_count": 8,
      "outputs": []
    },
    {
      "cell_type": "markdown",
      "source": [
        "# Start"
      ],
      "metadata": {
        "id": "IV7s6G_oaG3l"
      }
    },
    {
      "cell_type": "code",
      "source": [
        "FilesArchitecture(dir_data='images', del_parent_dir=False)"
      ],
      "metadata": {
        "colab": {
          "base_uri": "https://localhost:8080/"
        },
        "id": "r7x8pMykaIMd",
        "outputId": "cec535f0-9438-427e-9651-6c39e606b859"
      },
      "execution_count": 9,
      "outputs": [
        {
          "output_type": "execute_result",
          "data": {
            "text/plain": [
              "<__main__.FilesArchitecture at 0x7fcb94966220>"
            ]
          },
          "metadata": {},
          "execution_count": 9
        }
      ]
    },
    {
      "cell_type": "code",
      "source": [
        "transform = A.Compose([\n",
        "    A.RandomBrightnessContrast(brightness_limit=0.2, contrast_limit=0.2, p=.6),\n",
        "    A.HueSaturationValue(val_shift_limit=(-20, 20), p=.6),\n",
        "    A.Blur(blur_limit=2, p=.6),\n",
        "    A.VerticalFlip(p=.8),\n",
        "    A.HorizontalFlip(p=.8),\n",
        "    A.RandomScale(scale_limit=(-0.4, 0), interpolation=1, always_apply=False, p=.5),\n",
        "    A.PadIfNeeded(min_height=510, min_width=510, border_mode=1, value=(0,0,0), position=A.PadIfNeeded.PositionType.RANDOM, p=1),\n",
        "])\n",
        "\n",
        "# expansion_slayer = { \"1\": 0.5, \"4\": 0.1}\n",
        "\n",
        "Agumentation(transform, 2)"
      ],
      "metadata": {
        "colab": {
          "base_uri": "https://localhost:8080/"
        },
        "id": "de5CW-56aV-b",
        "outputId": "4cfaa050-3674-4d8b-f0a1-bd3397b29fe3"
      },
      "execution_count": 42,
      "outputs": [
        {
          "output_type": "stream",
          "name": "stdout",
          "text": [
            "Expansion data...\n"
          ]
        },
        {
          "output_type": "stream",
          "name": "stderr",
          "text": [
            "100%|██████████| 3774/3774 [01:14<00:00, 50.43it/s]\n"
          ]
        },
        {
          "output_type": "execute_result",
          "data": {
            "text/plain": [
              "<__main__.Agumentation at 0x7fcb0e55d3d0>"
            ]
          },
          "metadata": {},
          "execution_count": 42
        }
      ]
    },
    {
      "cell_type": "code",
      "source": [
        "Plots.plot_amount_samples(\"data/processed\", label_num=True)"
      ],
      "metadata": {
        "colab": {
          "base_uri": "https://localhost:8080/",
          "height": 281
        },
        "id": "Izm0jMvVbDOm",
        "outputId": "f95d09f4-9e68-4367-c9a0-1991de34c36d"
      },
      "execution_count": 43,
      "outputs": [
        {
          "output_type": "display_data",
          "data": {
            "text/plain": [
              "<Figure size 432x288 with 1 Axes>"
            ],
            "image/png": "[encoded data removed]"
          },
          "metadata": {
            "needs_background": "light"
          }
        }
      ]
    },
    {
      "cell_type": "code",
      "source": [
        "classes = [\"brak_wielowypustu\", \"niezahartowane\", \"brak_kanalka\", \"srodek_nieobrobiony\"]\n",
        "\n",
        "label_mapping = {\n",
        "      \"1\": [1, 0, 1, 0],\n",
        "      \"2\": [1, 1, 1, 0],\n",
        "      \"3\": [0, 1, 1, 0],\n",
        "      \"4\": [0, 0, 0, 0],\n",
        "      \"5\": [0, 0, 1, 0],\n",
        "      \"6\": [0, 0, 0, 1],\n",
        "      \"7\": [0, 0, 1, 1],\n",
        "      \"8\": [1, 0, 1, 1],\n",
        "  }\n",
        "\n",
        "X, y = [], []\n",
        "\n",
        "files = get_files('data/processed')\n",
        "\n",
        "with tqdm(total=len(files)) as pbar:\n",
        "  for path in files:\n",
        "    img = load_img(path, target_size=(128, 128, 3))\n",
        "    img = img_to_array(img)\n",
        "    img = img/255.0\n",
        "\n",
        "    X.append(img)\n",
        "    y.append(label_mapping[path.split(\"/\")[2]])\n",
        "\n",
        "    pbar.update(1)\n",
        "\n",
        "X = np.array(X)\n",
        "y = np.array(y)\n",
        "print(f\"X shape: {X.shape}, y shape: {y.shape}\")"
      ],
      "metadata": {
        "colab": {
          "base_uri": "https://localhost:8080/"
        },
        "id": "-itcL6tybeAq",
        "outputId": "ddd41d61-b7b2-4b9f-bca5-a80d6aa5a4e1"
      },
      "execution_count": 46,
      "outputs": [
        {
          "output_type": "stream",
          "name": "stderr",
          "text": [
            "100%|██████████| 7548/7548 [00:32<00:00, 234.85it/s]\n"
          ]
        },
        {
          "output_type": "stream",
          "name": "stdout",
          "text": [
            "X shape: (7548, 128, 128, 3), y shape: (7548, 4)\n"
          ]
        }
      ]
    },
    {
      "cell_type": "code",
      "source": [
        "X_train, X_test, y_train, y_test = train_test_split(X, y, test_size=0.25, stratify=y, shuffle=True)"
      ],
      "metadata": {
        "id": "6qmndmeccodl"
      },
      "execution_count": 47,
      "outputs": []
    },
    {
      "cell_type": "code",
      "source": [
        "model = Sequential([\n",
        "        InputLayer(input_shape=(128, 128, 3)),\n",
        "\n",
        "        Conv2D(64, kernel_size=(3, 3), activation='relu', padding='same'),\n",
        "        MaxPool2D(pool_size=(2, 2)),\n",
        "\n",
        "        Conv2D(128, kernel_size=(3, 3), activation='relu', padding='same'),\n",
        "        MaxPool2D(pool_size=(2, 2)),\n",
        "\n",
        "        Conv2D(256, kernel_size=(3, 3), activation='relu', padding='same'),\n",
        "        MaxPool2D(pool_size=(2, 2)),\n",
        "\n",
        "        GlobalAveragePooling2D(),\n",
        "\n",
        "        Dense(128, activation='relu'),\n",
        "        Dropout(0.5),\n",
        "        Dense(128, activation='relu'),\n",
        "        Dropout(0.5),\n",
        "\n",
        "        Dense(4, activation='sigmoid'),\n",
        "    ])\n",
        "\n",
        "model.summary()\n",
        "\n",
        "model.compile(loss='binary_crossentropy', optimizer='adam', metrics=[tf.keras.metrics.BinaryAccuracy(threshold=.5)])"
      ],
      "metadata": {
        "colab": {
          "base_uri": "https://localhost:8080/"
        },
        "id": "_8wUL7OgdKDm",
        "outputId": "b5feffbd-e614-4cb6-e4fe-d31d4cce7648"
      },
      "execution_count": 48,
      "outputs": [
        {
          "output_type": "stream",
          "name": "stdout",
          "text": [
            "Model: \"sequential\"\n",
            "_________________________________________________________________\n",
            " Layer (type)                Output Shape              Param #   \n",
            "=================================================================\n",
            " conv2d (Conv2D)             (None, 128, 128, 64)      1792      \n",
            "                                                                 \n",
            " max_pooling2d (MaxPooling2D  (None, 64, 64, 64)       0         \n",
            " )                                                               \n",
            "                                                                 \n",
            " conv2d_1 (Conv2D)           (None, 64, 64, 128)       73856     \n",
            "                                                                 \n",
            " max_pooling2d_1 (MaxPooling  (None, 32, 32, 128)      0         \n",
            " 2D)                                                             \n",
            "                                                                 \n",
            " conv2d_2 (Conv2D)           (None, 32, 32, 256)       295168    \n",
            "                                                                 \n",
            " max_pooling2d_2 (MaxPooling  (None, 16, 16, 256)      0         \n",
            " 2D)                                                             \n",
            "                                                                 \n",
            " conv2d_3 (Conv2D)           (None, 16, 16, 256)       590080    \n",
            "                                                                 \n",
            " max_pooling2d_3 (MaxPooling  (None, 8, 8, 256)        0         \n",
            " 2D)                                                             \n",
            "                                                                 \n",
            " global_average_pooling2d (G  (None, 256)              0         \n",
            " lobalAveragePooling2D)                                          \n",
            "                                                                 \n",
            " dense (Dense)               (None, 128)               32896     \n",
            "                                                                 \n",
            " dropout (Dropout)           (None, 128)               0         \n",
            "                                                                 \n",
            " dense_1 (Dense)             (None, 128)               16512     \n",
            "                                                                 \n",
            " dropout_1 (Dropout)         (None, 128)               0         \n",
            "                                                                 \n",
            " dense_2 (Dense)             (None, 4)                 516       \n",
            "                                                                 \n",
            "=================================================================\n",
            "Total params: 1,010,820\n",
            "Trainable params: 1,010,820\n",
            "Non-trainable params: 0\n",
            "_________________________________________________________________\n"
          ]
        }
      ]
    },
    {
      "cell_type": "code",
      "source": [
        "dt = datetime.now().strftime('%d_%m_%Y_%H_%M')\n",
        "filepath = os.path.join('output', 'model_' + dt + '.hdf5')\n",
        "checkpoint = ModelCheckpoint(filepath=filepath, monitor='val_binary_accuracy', save_best_only=True)"
      ],
      "metadata": {
        "id": "z48vO9a-fQ3c"
      },
      "execution_count": 49,
      "outputs": []
    },
    {
      "cell_type": "code",
      "source": [
        "log_dir = \"logs/fit/\" + datetime.now().strftime(\"%Y%m%d-%H%M%S\")\n",
        "tensorboard_callback = tf.keras.callbacks.TensorBoard(log_dir=log_dir, histogram_freq=1)"
      ],
      "metadata": {
        "id": "ZK1IILNXfTOW"
      },
      "execution_count": 50,
      "outputs": []
    },
    {
      "cell_type": "code",
      "source": [
        "history = model.fit(X_train, y_train, validation_data=(X_test, y_test), batch_size=4, epochs=100, callbacks=[checkpoint, tensorboard_callback])"
      ],
      "metadata": {
        "id": "f6o23XpmfUs8"
      },
      "execution_count": null,
      "outputs": []
    },
    {
      "cell_type": "code",
      "source": [
        "acc = history.history['binary_accuracy']\n",
        "val_acc = history.history['val_binary_accuracy']\n",
        "\n",
        "loss = history.history['loss']\n",
        "val_loss = history.history['val_loss']\n",
        "\n",
        "epochs_range = range(70)\n",
        "epochs_range = list(map(lambda x: x + 1, epochs_range))\n",
        "\n",
        "plt.figure(figsize=(8, 8))\n",
        "plt.subplot(1, 2, 1)\n",
        "plt.plot(epochs_range, acc, label='Training Accuracy')\n",
        "plt.plot(epochs_range, val_acc, label='Validation Accuracy')\n",
        "plt.legend(loc='lower right')\n",
        "plt.title('Training and Validation Accuracy')\n",
        "\n",
        "plt.subplot(1, 2, 2)\n",
        "plt.plot(epochs_range, loss, label='Training Loss')\n",
        "plt.plot(epochs_range, val_loss, label='Validation Loss')\n",
        "plt.legend(loc='upper right')\n",
        "plt.title('Training and Validation Loss')\n",
        "plt.show()"
      ],
      "metadata": {
        "colab": {
          "base_uri": "https://localhost:8080/",
          "height": 499
        },
        "id": "5riORqmvgiDV",
        "outputId": "3ffbee9b-4b1d-46aa-8c7e-e6959c5212b8"
      },
      "execution_count": null,
      "outputs": [
        {
          "output_type": "display_data",
          "data": {
            "text/plain": [
              "<Figure size 576x576 with 2 Axes>"
            ],
            "image/png": "[encoded data removed]"
          },
          "metadata": {
            "needs_background": "light"
          }
        }
      ]
    },
    {
      "cell_type": "markdown",
      "source": [
        "# Load Model"
      ],
      "metadata": {
        "id": "ZwNbz8JfhOeD"
      }
    },
    {
      "cell_type": "code",
      "source": [
        "import pickle\n",
        "print('output/model_'+dt+'.hdf5')\n",
        "model = load_model('output/model_'+dt+'.hdf5')"
      ],
      "metadata": {
        "colab": {
          "base_uri": "https://localhost:8080/"
        },
        "id": "ILJFjH89hNfc",
        "outputId": "fd751b7f-f192-4846-c178-a48b68a26ecf"
      },
      "execution_count": null,
      "outputs": [
        {
          "output_type": "stream",
          "name": "stdout",
          "text": [
            "output/model_12_01_2023_14_18.hdf5\n"
          ]
        }
      ]
    },
    {
      "cell_type": "code",
      "source": [
        "def predict(path, model):\n",
        "  img = load_img(path, target_size=(128, 128, 3))\n",
        "  img = img_to_array(img)\n",
        "  nativ, img = img, img/255.0\n",
        "\n",
        "  img = np.expand_dims(img, axis=0)\n",
        "\n",
        "  y_pred = model.predict(img)\n",
        "\n",
        "  prop = y_pred\n",
        "\n",
        "  y_pred = np.argsort(y_pred[0])\n",
        "\n",
        "  for i in range(4):\n",
        "    print(f\"Class: { classes[y_pred[i]] }, prob: { round(prop[0][y_pred[i]] * 100, 2) }%\") \n",
        "\n",
        "  nativ = cv2.resize(nativ, (244, 244), interpolation = cv2.INTER_AREA)\n",
        "  cv2_imshow(nativ)\n",
        "\n",
        "for dir in [str(i+1) for i in range(7)]:\n",
        "  files = os.listdir(f\"data/raw/\" + dir)\n",
        "  rng = random.randint(0, len(files))\n",
        "  image = files[rng]\n",
        "  predict(f'data/raw/{dir}/{image}', model)\n",
        "  print(f'data/raw/{dir}/{image}')"
      ],
      "metadata": {
        "id": "83z4YTHmnZZr"
      },
      "execution_count": null,
      "outputs": []
    }
  ]
}